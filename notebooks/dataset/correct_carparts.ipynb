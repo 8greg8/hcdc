{
 "cells": [
  {
   "cell_type": "code",
   "execution_count": 112,
   "metadata": {},
   "outputs": [],
   "source": [
    "from pycocotools.coco import COCO\n",
    "from grcore.coco import ann, init_dataset_folder\n",
    "from grcore.coco.dataset import CocoDataset\n",
    "from grcore.coco.file_io import save_cocodict\n",
    "import copy\n",
    "from pathlib import Path\n",
    "from grcore.common.utils import tqdm\n",
    "from grcore.img import maskutils\n",
    "import pandas as pd\n",
    "from sklearn.model_selection import train_test_split\n",
    "import shutil"
   ]
  },
  {
   "cell_type": "code",
   "execution_count": 113,
   "metadata": {},
   "outputs": [],
   "source": [
    "dsettype = \"train\"\n",
    "orig_root_path = Path(\"/data/dataset/car-parts-segmentation/orig\")\n",
    "dsetpath = orig_root_path / f\"annotations/{dsettype}.json\"\n",
    "new_root_path = Path(\"/data/dataset/car-parts-segmentation/grformat\")\n",
    "newpath = new_root_path / f\"annotations/{dsettype}_parts.json\""
   ]
  },
  {
   "cell_type": "code",
   "execution_count": 114,
   "metadata": {},
   "outputs": [],
   "source": [
    "init_dataset_folder(new_root_path)"
   ]
  },
  {
   "cell_type": "code",
   "execution_count": 115,
   "metadata": {},
   "outputs": [
    {
     "name": "stdout",
     "output_type": "stream",
     "text": [
      "loading annotations into memory...\n",
      "Done (t=0.05s)\n",
      "creating index...\n",
      "index created!\n"
     ]
    }
   ],
   "source": [
    "dset = COCO(str(dsetpath))\n",
    "\n",
    "# Copy info\n",
    "newinfo = copy.deepcopy(dset.dataset[\"info\"])"
   ]
  },
  {
   "cell_type": "markdown",
   "metadata": {},
   "source": [
    "## Correct licenses"
   ]
  },
  {
   "cell_type": "code",
   "execution_count": 116,
   "metadata": {},
   "outputs": [],
   "source": [
    "licinfos = copy.deepcopy(dset.dataset[\"licenses\"])\n",
    "licinfos = {lic[\"id\"]: lic for lic in licinfos}\n",
    "\n",
    "licmap = {}\n",
    "newlicinfos = []\n",
    "for newid, oldid in enumerate(sorted(licinfos.keys()), 1):\n",
    "    licinfo = licinfos[oldid]\n",
    "    licinfo[\"id\"] = newid\n",
    "    licmap[oldid] = newid\n",
    "    newlicinfos.append(licinfo) "
   ]
  },
  {
   "cell_type": "markdown",
   "metadata": {},
   "source": [
    "## Correct categories"
   ]
  },
  {
   "cell_type": "code",
   "execution_count": 117,
   "metadata": {},
   "outputs": [],
   "source": [
    "catmap = {}\n",
    "newcats = []\n",
    "\n",
    "# newid==1 is whole object\n",
    "catinfo = ann.build_cat_info(1,\"car\",\"car\")\n",
    "newcats.append(catinfo)\n",
    "\n",
    "newid = 2\n",
    "for oldid in sorted(dset.cats.keys()):\n",
    "    # oldid==0 is background.\n",
    "    # delete it\n",
    "    if oldid == 0:\n",
    "        continue\n",
    "\n",
    "    catinfo = dset.cats[oldid]\n",
    "    catinfo[\"id\"] = newid\n",
    "    catmap[oldid] = newid\n",
    "    catinfo[\"supercategory\"] = \"car\"\n",
    "    newcats.append(catinfo)\n",
    "    newid += 1    "
   ]
  },
  {
   "cell_type": "markdown",
   "metadata": {},
   "source": [
    "## Correct images"
   ]
  },
  {
   "cell_type": "code",
   "execution_count": 118,
   "metadata": {},
   "outputs": [],
   "source": [
    "imgmap = {}\n",
    "newimgs = []\n",
    "\n",
    "for newid, oldid in enumerate(sorted(dset.imgs.keys()), 1):\n",
    "    imginfo = dset.imgs[oldid]\n",
    "    imginfo[\"id\"] = newid\n",
    "    imgmap[oldid] = newid\n",
    "\n",
    "    imginfo[\"license\"] = licmap[imginfo[\"license\"]]\n",
    "    path = Path(imginfo[\"file_name\"])\n",
    "    imginfo[\"file_name\"] = str(path.name)\n",
    "    imginfo[\"coco_url\"] = f\"{dsettype}/{str(path.name)}\"\n",
    "    imginfo[\"image_url\"] = str(path)\n",
    "    imginfo[\"dataset\"] = \"Car Parts\"\n",
    "    newimgs.append(imginfo)"
   ]
  },
  {
   "cell_type": "markdown",
   "metadata": {},
   "source": [
    "### Copy images"
   ]
  },
  {
   "cell_type": "code",
   "execution_count": 119,
   "metadata": {},
   "outputs": [],
   "source": [
    "for newimg in newimgs:\n",
    "    src = orig_root_path / newimg[\"image_url\"]\n",
    "    dst = new_root_path / newimg[\"coco_url\"]\n",
    "    shutil.copy(src, dst)"
   ]
  },
  {
   "cell_type": "markdown",
   "metadata": {},
   "source": [
    "## Correct annotations"
   ]
  },
  {
   "cell_type": "code",
   "execution_count": 120,
   "metadata": {},
   "outputs": [],
   "source": [
    "newanns = []\n",
    "for newid, oldid in enumerate(sorted(dset.anns.keys()), 1):\n",
    "    anninfo = dset.anns[oldid]\n",
    "    \n",
    "    # Skip background annotations\n",
    "    if anninfo[\"category_id\"] == 0:\n",
    "        continue\n",
    "\n",
    "    anninfo[\"id\"] = newid\n",
    "    anninfo[\"image_id\"] = imgmap[anninfo[\"image_id\"]]\n",
    "    anninfo[\"category_id\"] = catmap[anninfo[\"category_id\"]]\n",
    "    anninfo[\"is_occluded\"] = False\n",
    "    anninfo[\"occluders\"] = []\n",
    "    newanns.append(anninfo)"
   ]
  },
  {
   "cell_type": "code",
   "execution_count": 121,
   "metadata": {},
   "outputs": [
    {
     "name": "stdout",
     "output_type": "stream",
     "text": [
      "Saving json: /data/dataset/car-parts-segmentation/grformat/annotations/train_parts.json\n"
     ]
    }
   ],
   "source": [
    "# Save and load as cocodset\n",
    "newdset = ann.build_dset_info(newinfo, newlicinfos, newcats, newimgs, newanns)\n",
    "save_cocodict(newdset,newpath)\n"
   ]
  },
  {
   "cell_type": "markdown",
   "metadata": {},
   "source": [
    "### Add spawn id and create wholes\n",
    "We suppose only 1 instance per image\n",
    "\n"
   ]
  },
  {
   "cell_type": "code",
   "execution_count": 122,
   "metadata": {},
   "outputs": [
    {
     "name": "stdout",
     "output_type": "stream",
     "text": [
      "loading annotations into memory...\n",
      "Loading json: /data/dataset/car-parts-segmentation/grformat/annotations/train_parts.json\n",
      "Done 0.12s\n",
      "creating index...\n",
      "index created!\n"
     ]
    }
   ],
   "source": [
    "coco = CocoDataset(newpath)"
   ]
  },
  {
   "cell_type": "code",
   "execution_count": 123,
   "metadata": {},
   "outputs": [
    {
     "name": "stdout",
     "output_type": "stream",
     "text": [
      "    id               name supercategory\n",
      "0    1                car           car\n",
      "1    2        back_bumper           car\n",
      "2    3         back_glass           car\n",
      "3    4     back_left_door           car\n",
      "4    5    back_left_light           car\n",
      "5    6    back_right_door           car\n",
      "6    7   back_right_light           car\n",
      "7    8       front_bumper           car\n",
      "8    9        front_glass           car\n",
      "9   10    front_left_door           car\n",
      "10  11   front_left_light           car\n",
      "11  12   front_right_door           car\n",
      "12  13  front_right_light           car\n",
      "13  14               hood           car\n",
      "14  15        left_mirror           car\n",
      "15  16       right_mirror           car\n",
      "16  17           tailgate           car\n",
      "17  18              trunk           car\n",
      "18  19              wheel           car\n"
     ]
    }
   ],
   "source": [
    "print(pd.DataFrame.from_dict(coco.cats.values()))"
   ]
  },
  {
   "cell_type": "code",
   "execution_count": 124,
   "metadata": {},
   "outputs": [],
   "source": [
    "# Check instances per image\n",
    "for imgid in coco.imgids:\n",
    "    for catid in coco.catids:\n",
    "        annids = coco.get_annids([catid], imgids=[imgid])\n",
    "        if catid != 19 and len(annids) > 1:\n",
    "            print(f\"found more than 1 object instance on an image: {imgid}\")\n"
   ]
  },
  {
   "cell_type": "code",
   "execution_count": 125,
   "metadata": {},
   "outputs": [
    {
     "name": "stderr",
     "output_type": "stream",
     "text": [
      "100%|██████████| 400/400 [00:00<00:00, 1559.65it/s]\n"
     ]
    }
   ],
   "source": [
    "wholeanns = []\n",
    "for imgid in tqdm(coco.imgids):\n",
    "    annids = coco.get_annids(imgids=[imgid])\n",
    "    if not annids:\n",
    "        tqdm.write(f\"no annotations for: {imgid}\")\n",
    "        continue\n",
    "    anninfos = coco.load_anninfos(annids)\n",
    "    rles = [coco.ann_to_rle(anninfo) for anninfo in anninfos]\n",
    "    rle = maskutils.merge(rles)\n",
    "\n",
    "    # Correct part anninfos\n",
    "    for anninfo in anninfos:\n",
    "        anninfo[\"spawn_id\"] = 1\n",
    "\n",
    "    # Create whole anninfo\n",
    "    # annid == imgid because: 1. imgids are sorted; 2. one instance per image\n",
    "    # catid == 1 beceause only car category\n",
    "    anninfo = ann.build_ann_info(imgid, imgid, 1, rle, is_occluded=False, occluders=[], spawn_id=1)\n",
    "    wholeanns.append(anninfo)"
   ]
  },
  {
   "cell_type": "code",
   "execution_count": 126,
   "metadata": {},
   "outputs": [
    {
     "name": "stdout",
     "output_type": "stream",
     "text": [
      "Saving json: /data/dataset/car-parts-segmentation/grformat/annotations/train_parts.json\n",
      "Saving json: /data/dataset/car-parts-segmentation/grformat/annotations/train_wholes.json\n"
     ]
    }
   ],
   "source": [
    "# save back\n",
    "save_cocodict(coco.gt.dataset, newpath)\n",
    "wholepath = newpath.with_name(f\"{dsettype}_wholes.json\")\n",
    "wholesdset = copy.deepcopy(coco.gt.dataset)\n",
    "wholesdset[\"annotations\"] = wholeanns\n",
    "save_cocodict(wholesdset, wholepath)"
   ]
  },
  {
   "cell_type": "markdown",
   "metadata": {},
   "source": []
  },
  {
   "cell_type": "markdown",
   "metadata": {},
   "source": [
    "### Select 20% random images and save as val data\n"
   ]
  },
  {
   "cell_type": "code",
   "execution_count": 127,
   "metadata": {},
   "outputs": [
    {
     "name": "stdout",
     "output_type": "stream",
     "text": [
      "loading annotations into memory...\n",
      "Loading json: /data/dataset/car-parts-segmentation/grformat/annotations/train_wholes.json\n",
      "Done 0.02s\n",
      "creating index...\n",
      "index created!\n",
      "loading annotations into memory...\n",
      "Loading json: /data/dataset/car-parts-segmentation/grformat/annotations/train_parts.json\n",
      "Done 0.06s\n",
      "creating index...\n",
      "index created!\n"
     ]
    }
   ],
   "source": [
    "if dsettype == \"train\":\n",
    "    coco = CocoDataset(wholepath, newpath, from_gt=True)\n",
    "\n",
    "    inforecord = copy.deepcopy(coco.gt.dataset[\"info\"])\n",
    "    licrecords = copy.deepcopy(coco.gt.dataset[\"licenses\"])\n",
    "    catrecords = copy.deepcopy(coco.gt.dataset[\"categories\"])"
   ]
  },
  {
   "cell_type": "code",
   "execution_count": 128,
   "metadata": {},
   "outputs": [
    {
     "name": "stdout",
     "output_type": "stream",
     "text": [
      "Saving json: /data/dataset/car-parts-segmentation/grformat/annotations/val_wholes.json\n",
      "Saving json: /data/dataset/car-parts-segmentation/grformat/annotations/val_parts.json\n"
     ]
    }
   ],
   "source": [
    "if dsettype == \"train\":\n",
    "    imgids = coco.imgids\n",
    "    imgids_train, imgids_val = train_test_split(imgids, test_size=0.2)\n",
    "    imgrecords = copy.deepcopy(coco.load_imginfos(imgids_val))\n",
    "\n",
    "    #Change train to val in coco_url\n",
    "    imgmap = {}\n",
    "    for id_, imgrecord in enumerate(imgrecords, 1):\n",
    "        imgrecord[\"coco_url\"] = f\"val/{imgrecord['file_name']}\"\n",
    "        imgmap[imgrecord[\"id\"]] = id_\n",
    "        imgrecord[\"id\"] = id_\n",
    "\n",
    "    annids = coco.get_annids(imgids=imgids_val)\n",
    "    wholes_annrecords = copy.deepcopy(coco.load_anninfos(annids))\n",
    "    for id_, annrecord in enumerate(wholes_annrecords, 1):\n",
    "        annrecord[\"id\"] = id_\n",
    "        annrecord[\"image_id\"] = imgmap[annrecord[\"image_id\"]]\n",
    "\n",
    "    wholesdset = ann.build_dset_info(inforecord, licrecords, catrecords, imgrecords, wholes_annrecords)\n",
    "    valwholepath = wholepath.with_name(f\"val_wholes.json\")\n",
    "    save_cocodict(wholesdset, valwholepath)\n",
    "\n",
    "    annids = coco.get_annids(imgids=imgids_val, from_gt=False)\n",
    "    parts_annrecords = coco.load_anninfos(annids, from_gt=False)\n",
    "    for id_, annrecord in enumerate(parts_annrecords, 1):\n",
    "        annrecord[\"id\"] = id_\n",
    "        annrecord[\"image_id\"] = imgmap[annrecord[\"image_id\"]]\n",
    "\n",
    "    partsdset = ann.build_dset_info(inforecord, licrecords, catrecords, imgrecords, parts_annrecords)\n",
    "    valpartspath = wholepath.with_name(f\"val_parts.json\")\n",
    "    save_cocodict(partsdset, valpartspath)"
   ]
  },
  {
   "cell_type": "markdown",
   "metadata": {},
   "source": [
    "### Save val images"
   ]
  },
  {
   "cell_type": "code",
   "execution_count": 129,
   "metadata": {},
   "outputs": [],
   "source": [
    "if dsettype == \"train\":\n",
    "    valpath = coco.root_path\n",
    "    for imgrecord in imgrecords:\n",
    "        src = coco.root_path / \"train\" / imgrecord[\"file_name\"]\n",
    "        dst = coco.root_path / imgrecord[\"coco_url\"]\n",
    "        shutil.copy(src, dst)"
   ]
  }
 ],
 "metadata": {
  "interpreter": {
   "hash": "eadbdbecd3c186b3ede902ddd9ae778eb7fc557481b93b5146ff8ac4bcfc0793"
  },
  "kernelspec": {
   "display_name": "Python 3.7.4 64-bit ('robot': conda)",
   "language": "python",
   "name": "python3"
  },
  "language_info": {
   "codemirror_mode": {
    "name": "ipython",
    "version": 3
   },
   "file_extension": ".py",
   "mimetype": "text/x-python",
   "name": "python",
   "nbconvert_exporter": "python",
   "pygments_lexer": "ipython3",
   "version": "2.7.18"
  },
  "orig_nbformat": 4
 },
 "nbformat": 4,
 "nbformat_minor": 2
}
