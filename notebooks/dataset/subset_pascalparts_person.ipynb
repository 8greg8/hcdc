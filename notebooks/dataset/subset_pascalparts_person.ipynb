{
 "cells": [
  {
   "cell_type": "markdown",
   "metadata": {},
   "source": [
    "# Create a subset of Pascal Part Person dataset"
   ]
  },
  {
   "cell_type": "code",
   "execution_count": 9,
   "metadata": {},
   "outputs": [],
   "source": [
    "from grcore.coco import ann, save_cocodict\n",
    "from grcore.coco.dataset import CocoDataset\n",
    "import numpy as np\n",
    "import copy\n",
    "import shutil\n",
    "from pathlib import Path\n",
    "from rich.jupyter import print"
   ]
  },
  {
   "cell_type": "code",
   "execution_count": 10,
   "metadata": {},
   "outputs": [
    {
     "name": "stdout",
     "output_type": "stream",
     "text": [
      "Pretty printing has been turned OFF\n"
     ]
    }
   ],
   "source": [
    "%pprint"
   ]
  },
  {
   "cell_type": "code",
   "execution_count": 11,
   "metadata": {},
   "outputs": [],
   "source": [
    "imagecount = 100"
   ]
  },
  {
   "cell_type": "code",
   "execution_count": 12,
   "metadata": {},
   "outputs": [],
   "source": [
    "base_path = Path(\"/data/dataset/pascal/pascalparts_person\")\n",
    "wpath = base_path / \"annotations/val_wholes.json\"\n",
    "ppath = base_path / \"annotations/val_parts.json\"\n"
   ]
  },
  {
   "cell_type": "code",
   "execution_count": 13,
   "metadata": {},
   "outputs": [
    {
     "name": "stdout",
     "output_type": "stream",
     "text": [
      "loading annotations into memory...\n",
      "Loading json: /data/dataset/pascal/pascalparts_person/annotations/val_wholes.json\n",
      "Done 0.02s\n",
      "creating index...\n",
      "index created!\n",
      "loading annotations into memory...\n",
      "Loading json: /data/dataset/pascal/pascalparts_person/annotations/val_parts.json\n",
      "Done 0.11s\n",
      "creating index...\n",
      "index created!\n"
     ]
    }
   ],
   "source": [
    "coco = CocoDataset(wpath, ppath, from_gt=True)\n",
    "\n",
    "inforecord = copy.deepcopy(coco.gt.dataset[\"info\"])\n",
    "licrecords = copy.deepcopy(coco.gt.dataset[\"licenses\"])\n",
    "catrecords = copy.deepcopy(coco.gt.dataset[\"categories\"])"
   ]
  },
  {
   "cell_type": "code",
   "execution_count": 14,
   "metadata": {},
   "outputs": [
    {
     "data": {
      "text/html": [
       "<pre style=\"white-space:pre;overflow-x:auto;line-height:normal;font-family:Menlo,'DejaVu Sans Mono',consolas,'Courier New',monospace\"><span style=\"color: #008080; text-decoration-color: #008080; font-weight: bold\">100</span>\n",
       "</pre>\n"
      ],
      "text/plain": [
       "\u001b[1;36m100\u001b[0m\n"
      ]
     },
     "metadata": {},
     "output_type": "display_data"
    }
   ],
   "source": [
    "imgids = np.random.choice(coco.imgids, imagecount, replace=False).tolist()\n",
    "print(len(imgids))\n",
    "imgrecords = copy.deepcopy(coco.load_imginfos(imgids))\n",
    "\n",
    "imgmap = {}\n",
    "for id_, imgrecord in enumerate(imgrecords, 1):\n",
    "    imgmap[imgrecord[\"id\"]] = id_\n",
    "    imgrecord[\"id\"] = id_"
   ]
  },
  {
   "cell_type": "code",
   "execution_count": 15,
   "metadata": {},
   "outputs": [],
   "source": [
    "annids = coco.get_annids(imgids=imgids)\n",
    "wholes_annrecords = copy.deepcopy(coco.load_anninfos(annids))\n",
    "for id_, annrecord in enumerate(wholes_annrecords, 1):\n",
    "    annrecord[\"id\"] = id_\n",
    "    annrecord[\"image_id\"] = imgmap[annrecord[\"image_id\"]]"
   ]
  },
  {
   "cell_type": "code",
   "execution_count": 16,
   "metadata": {},
   "outputs": [
    {
     "name": "stdout",
     "output_type": "stream",
     "text": [
      "Saving json: /data/dataset/pascal/pascalparts_person/annotations/val_wholes_subset.json\n"
     ]
    }
   ],
   "source": [
    "wholesdset = ann.build_dset_info(inforecord, licrecords, catrecords, imgrecords, wholes_annrecords)\n",
    "wholepath = coco.root_path / \"annotations\" / \"val_wholes_subset.json\"\n",
    "save_cocodict(wholesdset, wholepath)"
   ]
  },
  {
   "cell_type": "code",
   "execution_count": 17,
   "metadata": {},
   "outputs": [],
   "source": [
    "annids = coco.get_annids(imgids=imgids, from_gt=False)\n",
    "parts_annrecords = coco.load_anninfos(annids, from_gt=False)\n",
    "for id_, annrecord in enumerate(parts_annrecords, 1):\n",
    "    annrecord[\"id\"] = id_\n",
    "    annrecord[\"image_id\"] = imgmap[annrecord[\"image_id\"]]"
   ]
  },
  {
   "cell_type": "code",
   "execution_count": 18,
   "metadata": {},
   "outputs": [
    {
     "name": "stdout",
     "output_type": "stream",
     "text": [
      "Saving json: /data/dataset/pascal/pascalparts_person/annotations/val_parts_subset.json\n"
     ]
    }
   ],
   "source": [
    "partsdset = ann.build_dset_info(inforecord, licrecords, catrecords, imgrecords, parts_annrecords)\n",
    "valpartspath = coco.root_path / \"annotations\" / \"val_parts_subset.json\"\n",
    "save_cocodict(partsdset, valpartspath)"
   ]
  },
  {
   "cell_type": "markdown",
   "metadata": {},
   "source": [
    "## Save val images"
   ]
  },
  {
   "cell_type": "markdown",
   "metadata": {},
   "source": [
    "for imgrecord in imgrecords:\n",
    "    src = coco.root_path / \"val_noocln\" / imgrecord[\"file_name\"]\n",
    "    dst = coco.root_path / imgrecord[\"coco_url\"]\n",
    "    shutil.copy(src, dst)"
   ]
  },
  {
   "cell_type": "markdown",
   "metadata": {},
   "source": []
  }
 ],
 "metadata": {
  "interpreter": {
   "hash": "eadbdbecd3c186b3ede902ddd9ae778eb7fc557481b93b5146ff8ac4bcfc0793"
  },
  "kernelspec": {
   "display_name": "Python 3.7.4 64-bit ('robot': conda)",
   "language": "python",
   "name": "python3"
  },
  "language_info": {
   "codemirror_mode": {
    "name": "ipython",
    "version": 3
   },
   "file_extension": ".py",
   "mimetype": "text/x-python",
   "name": "python",
   "nbconvert_exporter": "python",
   "pygments_lexer": "ipython3",
   "version": "3.7.4"
  },
  "orig_nbformat": 4
 },
 "nbformat": 4,
 "nbformat_minor": 2
}
