{
 "cells": [
  {
   "cell_type": "markdown",
   "metadata": {},
   "source": [
    "# Join datasets to GrMix dataset\n",
    "\n",
    "catinfo created in train procedure and is the same for all other procedures.\n"
   ]
  },
  {
   "cell_type": "code",
   "execution_count": 70,
   "metadata": {},
   "outputs": [],
   "source": [
    "from pycocotools.coco import COCO\n",
    "from grcore.coco.dataset import CocoDataset\n",
    "from grcore.coco import ann, init_dataset_folder\n",
    "from grcore.coco.file_io import save_cocodict\n",
    "from pathlib import Path\n",
    "import shutil\n",
    "import copy"
   ]
  },
  {
   "cell_type": "code",
   "execution_count": 71,
   "metadata": {},
   "outputs": [],
   "source": [
    "porw = \"wholes\""
   ]
  },
  {
   "cell_type": "code",
   "execution_count": 72,
   "metadata": {},
   "outputs": [],
   "source": [
    "base_outpath = Path(\"/data/dataset/grmix/orig\")\n",
    "init_dataset_folder(base_outpath)"
   ]
  },
  {
   "cell_type": "code",
   "execution_count": 73,
   "metadata": {},
   "outputs": [],
   "source": [
    "inforecord = ann.build_info_info(\"GrMix dataset in COCO format\", contributor=\"Gregor Koporec\", version=\"v1.0\")\n",
    "licenserecords = [ann.build_lic_info(1, \"Gorenje Copyright\", \"./LICENSE\")]"
   ]
  },
  {
   "cell_type": "markdown",
   "metadata": {},
   "source": [
    "## Train"
   ]
  },
  {
   "cell_type": "code",
   "execution_count": 74,
   "metadata": {},
   "outputs": [],
   "source": [
    "base_personpath = Path(f\"/data/dataset/pascal/pascalparts_person\")\n",
    "personpath = base_personpath / f\"annotations/train_{porw}.json\"\n",
    "base_carpath = Path(f\"/data/dataset/car-parts-segmentation/ocln\")\n",
    "carpath = base_carpath / f\"annotations/train_{porw}.json\""
   ]
  },
  {
   "cell_type": "code",
   "execution_count": 75,
   "metadata": {},
   "outputs": [
    {
     "name": "stdout",
     "output_type": "stream",
     "text": [
      "loading annotations into memory...\n",
      "Done (t=0.02s)\n",
      "creating index...\n",
      "index created!\n",
      "loading annotations into memory...\n",
      "Done (t=0.01s)\n",
      "creating index...\n",
      "index created!\n"
     ]
    }
   ],
   "source": [
    "persondset = COCO(str(personpath))\n",
    "cardset = COCO(str(carpath))"
   ]
  },
  {
   "cell_type": "markdown",
   "metadata": {},
   "source": [
    "### Cat"
   ]
  },
  {
   "cell_type": "code",
   "execution_count": 76,
   "metadata": {},
   "outputs": [],
   "source": [
    "catrecords = []\n",
    "personcats = persondset.cats.values()\n",
    "carcats = cardset.cats.values()\n",
    "\n",
    "catmap = {\"person\": {}, \"car\":{}}\n",
    "id_ = 1\n",
    "for cat in personcats:\n",
    "    catmap[\"person\"][cat[\"id\"]] = id_\n",
    "    cat[\"id\"] = id_\n",
    "    catrecords.append(cat)\n",
    "    id_ += 1\n",
    "    \n",
    "\n",
    "for cat in carcats:\n",
    "    catmap[\"car\"][cat[\"id\"]] = id_\n",
    "    cat[\"id\"] = id_\n",
    "    catrecords.append(cat)\n",
    "    id_ += 1"
   ]
  },
  {
   "cell_type": "markdown",
   "metadata": {},
   "source": [
    "### Imgs"
   ]
  },
  {
   "cell_type": "code",
   "execution_count": 77,
   "metadata": {},
   "outputs": [],
   "source": [
    "imgrecords = []\n",
    "personimgs = persondset.imgs.values()\n",
    "carimgs = cardset.imgs.values()\n",
    "\n",
    "imgmap = {\"person\":{}, \"car\":{}}\n",
    "id_ = 1\n",
    "for img in personimgs:\n",
    "    imgmap[\"person\"][img[\"id\"]] = id_\n",
    "    img[\"id\"] = id_\n",
    "    imgrecords.append(img)\n",
    "    id_ += 1\n",
    "\n",
    "for img in carimgs:\n",
    "    imgmap[\"car\"][img[\"id\"]] = id_\n",
    "    img[\"id\"] = id_\n",
    "    imgrecords.append(img)\n",
    "    id_ += 1"
   ]
  },
  {
   "cell_type": "code",
   "execution_count": 78,
   "metadata": {},
   "outputs": [],
   "source": [
    "# Copy images into new folders\n",
    "for imgrecord in imgrecords:\n",
    "    if imgrecord[\"dataset\"] == \"Car Parts\":\n",
    "        basepath = base_carpath\n",
    "    else:\n",
    "        basepath = base_personpath\n",
    "\n",
    "    src = basepath / imgrecord[\"coco_url\"]\n",
    "    dst = base_outpath / imgrecord[\"coco_url\"]\n",
    "    if not dst.exists():\n",
    "        shutil.copy(src, dst)"
   ]
  },
  {
   "cell_type": "markdown",
   "metadata": {},
   "source": [
    "### Anns"
   ]
  },
  {
   "cell_type": "code",
   "execution_count": 79,
   "metadata": {},
   "outputs": [],
   "source": [
    "annrecords = []\n",
    "personanns = persondset.anns.values()\n",
    "caranns = cardset.anns.values()\n",
    "\n",
    "id_ = 1\n",
    "for anno in personanns:\n",
    "    anno[\"id\"] = id_\n",
    "    anno[\"image_id\"] = imgmap[\"person\"][anno[\"image_id\"]]\n",
    "    anno[\"category_id\"] = catmap[\"person\"][anno[\"category_id\"]]\n",
    "    annrecords.append(anno)\n",
    "    id_ += 1\n",
    "\n",
    "for anno in caranns:\n",
    "    anno[\"id\"] = id_\n",
    "    anno[\"image_id\"] = imgmap[\"car\"][anno[\"image_id\"]]\n",
    "    anno[\"category_id\"] = catmap[\"car\"][anno[\"category_id\"]]\n",
    "    annrecords.append(anno)\n",
    "    id_ += 1"
   ]
  },
  {
   "cell_type": "markdown",
   "metadata": {},
   "source": [
    "### Save train"
   ]
  },
  {
   "cell_type": "code",
   "execution_count": 80,
   "metadata": {},
   "outputs": [
    {
     "name": "stdout",
     "output_type": "stream",
     "text": [
      "Saving json: /data/dataset/grmix/orig/annotations/train_wholes.json\n"
     ]
    }
   ],
   "source": [
    "cocodict = ann.build_dset_info(inforecord, licenserecords, catrecords, imgrecords, annrecords)\n",
    "outpath = base_outpath / \"annotations\" /  f\"train_{porw}.json\"\n",
    "save_cocodict(cocodict, outpath)"
   ]
  },
  {
   "cell_type": "markdown",
   "metadata": {},
   "source": [
    "## Val"
   ]
  },
  {
   "cell_type": "code",
   "execution_count": 81,
   "metadata": {},
   "outputs": [],
   "source": [
    "base_personpath = Path(f\"/data/dataset/pascal/pascalparts_person\")\n",
    "personpath = base_personpath / f\"annotations/val_{porw}_subset.json\"\n",
    "base_carpath = Path(f\"/data/dataset/car-parts-segmentation/ocln\")\n",
    "carpath = base_carpath / f\"annotations/val_{porw}.json\""
   ]
  },
  {
   "cell_type": "code",
   "execution_count": 82,
   "metadata": {},
   "outputs": [
    {
     "name": "stdout",
     "output_type": "stream",
     "text": [
      "loading annotations into memory...\n",
      "Done (t=0.00s)\n",
      "creating index...\n",
      "index created!\n",
      "loading annotations into memory...\n",
      "Done (t=0.00s)\n",
      "creating index...\n",
      "index created!\n"
     ]
    }
   ],
   "source": [
    "persondset = COCO(str(personpath))\n",
    "cardset = COCO(str(carpath))"
   ]
  },
  {
   "cell_type": "markdown",
   "metadata": {},
   "source": [
    "### Imgs\n"
   ]
  },
  {
   "cell_type": "code",
   "execution_count": 83,
   "metadata": {},
   "outputs": [],
   "source": [
    "imgrecords = []\n",
    "personimgs = persondset.imgs.values()\n",
    "carimgs = cardset.imgs.values()\n",
    "\n",
    "imgmap = {\"person\":{}, \"car\":{}}\n",
    "id_ = 1\n",
    "for img in personimgs:\n",
    "    imgmap[\"person\"][img[\"id\"]] = id_\n",
    "    img[\"id\"] = id_\n",
    "    imgrecords.append(img)\n",
    "    id_ += 1\n",
    "\n",
    "for img in carimgs:\n",
    "    imgmap[\"car\"][img[\"id\"]] = id_\n",
    "    img[\"id\"] = id_\n",
    "    img[\"coco_url\"] = f\"val/{img['file_name']}\"\n",
    "    imgrecords.append(img)\n",
    "    id_ += 1"
   ]
  },
  {
   "cell_type": "code",
   "execution_count": 84,
   "metadata": {},
   "outputs": [],
   "source": [
    "# Copy images into new folders\n",
    "for imgrecord in imgrecords:\n",
    "    if imgrecord[\"dataset\"] == \"Car Parts\":\n",
    "        basepath = base_carpath\n",
    "    else:\n",
    "        basepath = base_personpath\n",
    "\n",
    "    src = basepath / imgrecord[\"coco_url\"]\n",
    "    dst = base_outpath / imgrecord[\"coco_url\"]\n",
    "    if not dst.exists():\n",
    "        shutil.copy(src, dst)"
   ]
  },
  {
   "cell_type": "markdown",
   "metadata": {},
   "source": [
    "### Annos"
   ]
  },
  {
   "cell_type": "code",
   "execution_count": 85,
   "metadata": {},
   "outputs": [],
   "source": [
    "annrecords = []\n",
    "personanns = persondset.anns.values()\n",
    "caranns = cardset.anns.values()\n",
    "\n",
    "id_ = 1\n",
    "for anno in personanns:\n",
    "    anno[\"id\"] = id_\n",
    "    anno[\"image_id\"] = imgmap[\"person\"][anno[\"image_id\"]]\n",
    "    anno[\"category_id\"] = catmap[\"person\"][anno[\"category_id\"]]\n",
    "    annrecords.append(anno)\n",
    "    id_ += 1\n",
    "\n",
    "for anno in caranns:\n",
    "    anno[\"id\"] = id_\n",
    "    anno[\"image_id\"] = imgmap[\"car\"][anno[\"image_id\"]]\n",
    "    anno[\"category_id\"] = catmap[\"car\"][anno[\"category_id\"]]\n",
    "    annrecords.append(anno)\n",
    "    id_ += 1"
   ]
  },
  {
   "cell_type": "markdown",
   "metadata": {},
   "source": [
    "### Save"
   ]
  },
  {
   "cell_type": "code",
   "execution_count": 86,
   "metadata": {},
   "outputs": [
    {
     "name": "stdout",
     "output_type": "stream",
     "text": [
      "Saving json: /data/dataset/grmix/orig/annotations/val_wholes.json\n"
     ]
    }
   ],
   "source": [
    "cocodict = ann.build_dset_info(inforecord, licenserecords, catrecords, imgrecords, annrecords)\n",
    "outpath = base_outpath / \"annotations\" / f\"val_{porw}.json\"\n",
    "save_cocodict(cocodict, outpath)"
   ]
  },
  {
   "cell_type": "markdown",
   "metadata": {},
   "source": [
    "## Test"
   ]
  },
  {
   "cell_type": "code",
   "execution_count": 87,
   "metadata": {},
   "outputs": [],
   "source": [
    "base_personpath = Path(f\"/data/dataset/coco/coco_ocln/\")\n",
    "personpath = base_personpath / \"annotations/val_wholes.json\"\n",
    "base_carpath = Path(f\"/data/dataset/car-parts-segmentation/ocln\")\n",
    "carpath = base_carpath / \"annotations/test_wholes.json\""
   ]
  },
  {
   "cell_type": "code",
   "execution_count": 88,
   "metadata": {},
   "outputs": [
    {
     "name": "stdout",
     "output_type": "stream",
     "text": [
      "loading annotations into memory...\n",
      "Done (t=0.12s)\n",
      "creating index...\n",
      "index created!\n",
      "loading annotations into memory...\n",
      "Done (t=0.00s)\n",
      "creating index...\n",
      "index created!\n"
     ]
    }
   ],
   "source": [
    "persondset = COCO(str(personpath))\n",
    "cardset = COCO(str(carpath))"
   ]
  },
  {
   "cell_type": "code",
   "execution_count": 89,
   "metadata": {},
   "outputs": [],
   "source": [
    "imgrecords = []\n",
    "personimgs = persondset.imgs.values()\n",
    "carimgs = cardset.imgs.values()\n",
    "\n",
    "imgmap = {\"person\":{}, \"car\":{}}\n",
    "id_ = 1\n",
    "for img in personimgs:\n",
    "    imgmap[\"person\"][img[\"id\"]] = id_\n",
    "    img[\"id\"] = id_\n",
    "    img[\"coco_url\"] = f\"test/{img['file_name']}\"\n",
    "    imgrecords.append(img)\n",
    "    id_ += 1\n",
    "\n",
    "for img in carimgs:\n",
    "    imgmap[\"car\"][img[\"id\"]] = id_\n",
    "    img[\"id\"] = id_\n",
    "    imgrecords.append(img)\n",
    "    id_ += 1"
   ]
  },
  {
   "cell_type": "code",
   "execution_count": 90,
   "metadata": {},
   "outputs": [],
   "source": [
    "# Copy images into new folders\n",
    "for imgrecord in imgrecords:\n",
    "    if imgrecord[\"dataset\"] == \"Car Parts\":\n",
    "        basepath = base_carpath\n",
    "        src = basepath / imgrecord[\"coco_url\"]\n",
    "    else:\n",
    "        basepath = base_personpath\n",
    "        src = basepath / \"val\" / imgrecord[\"file_name\"]\n",
    "\n",
    "    dst = base_outpath / imgrecord[\"coco_url\"]\n",
    "    if not dst.exists():\n",
    "        shutil.copy(src, dst)"
   ]
  },
  {
   "cell_type": "code",
   "execution_count": 91,
   "metadata": {},
   "outputs": [],
   "source": [
    "annrecords = []\n",
    "personanns = persondset.anns.values()\n",
    "caranns = cardset.anns.values()\n",
    "\n",
    "id_ = 1\n",
    "for anno in personanns:\n",
    "    anno[\"id\"] = id_\n",
    "    anno[\"image_id\"] = imgmap[\"person\"][anno[\"image_id\"]]\n",
    "    anno[\"category_id\"] = catmap[\"person\"][anno[\"category_id\"]]\n",
    "    annrecords.append(anno)\n",
    "    id_ += 1\n",
    "\n",
    "for anno in caranns:\n",
    "    anno[\"id\"] = id_\n",
    "    anno[\"image_id\"] = imgmap[\"car\"][anno[\"image_id\"]]\n",
    "    anno[\"category_id\"] = catmap[\"car\"][anno[\"category_id\"]]\n",
    "    annrecords.append(anno)\n",
    "    id_ += 1"
   ]
  },
  {
   "cell_type": "code",
   "execution_count": 92,
   "metadata": {},
   "outputs": [
    {
     "name": "stdout",
     "output_type": "stream",
     "text": [
      "Saving json: /data/dataset/grmix/orig/annotations/test_wholes.json\n"
     ]
    }
   ],
   "source": [
    "cocodict = ann.build_dset_info(inforecord, licenserecords, catrecords, imgrecords, annrecords)\n",
    "outpath = base_outpath / \"annotations\" / f\"test_wholes.json\"\n",
    "save_cocodict(cocodict, outpath)"
   ]
  },
  {
   "cell_type": "code",
   "execution_count": null,
   "metadata": {},
   "outputs": [],
   "source": []
  }
 ],
 "metadata": {
  "interpreter": {
   "hash": "eadbdbecd3c186b3ede902ddd9ae778eb7fc557481b93b5146ff8ac4bcfc0793"
  },
  "kernelspec": {
   "display_name": "Python 3.7.4 64-bit ('robot': conda)",
   "language": "python",
   "name": "python3"
  },
  "language_info": {
   "codemirror_mode": {
    "name": "ipython",
    "version": 3
   },
   "file_extension": ".py",
   "mimetype": "text/x-python",
   "name": "python",
   "nbconvert_exporter": "python",
   "pygments_lexer": "ipython3",
   "version": "2.7.18"
  },
  "orig_nbformat": 4
 },
 "nbformat": 4,
 "nbformat_minor": 2
}
